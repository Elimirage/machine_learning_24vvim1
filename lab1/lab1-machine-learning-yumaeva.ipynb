{
 "cells": [
  {
   "cell_type": "code",
   "execution_count": 1,
   "id": "a4452779",
   "metadata": {
    "_cell_guid": "b1076dfc-b9ad-4769-8c92-a6c4dae69d19",
    "_uuid": "8f2839f25d086af736a60e9eeb907d3b93b6e0e5",
    "execution": {
     "iopub.execute_input": "2025-09-19T13:32:31.087538Z",
     "iopub.status.busy": "2025-09-19T13:32:31.087195Z",
     "iopub.status.idle": "2025-09-19T13:32:31.092268Z",
     "shell.execute_reply": "2025-09-19T13:32:31.091325Z"
    },
    "papermill": {
     "duration": 0.011855,
     "end_time": "2025-09-19T13:32:31.093761",
     "exception": false,
     "start_time": "2025-09-19T13:32:31.081906",
     "status": "completed"
    },
    "tags": []
   },
   "outputs": [],
   "source": [
    "#import polars as pl"
   ]
  },
  {
   "cell_type": "code",
   "execution_count": 2,
   "id": "94da388d",
   "metadata": {
    "execution": {
     "iopub.execute_input": "2025-09-19T13:32:31.103061Z",
     "iopub.status.busy": "2025-09-19T13:32:31.102737Z",
     "iopub.status.idle": "2025-09-19T13:32:33.032031Z",
     "shell.execute_reply": "2025-09-19T13:32:33.031283Z"
    },
    "papermill": {
     "duration": 1.935783,
     "end_time": "2025-09-19T13:32:33.033588",
     "exception": false,
     "start_time": "2025-09-19T13:32:31.097805",
     "status": "completed"
    },
    "tags": []
   },
   "outputs": [],
   "source": [
    "import pandas as pd # подключим библиотеку\n",
    "#import numpy as np"
   ]
  },
  {
   "cell_type": "code",
   "execution_count": 3,
   "id": "56569bfa",
   "metadata": {
    "execution": {
     "iopub.execute_input": "2025-09-19T13:32:33.041774Z",
     "iopub.status.busy": "2025-09-19T13:32:33.041332Z",
     "iopub.status.idle": "2025-09-19T13:32:33.106303Z",
     "shell.execute_reply": "2025-09-19T13:32:33.105254Z"
    },
    "papermill": {
     "duration": 0.070981,
     "end_time": "2025-09-19T13:32:33.108057",
     "exception": false,
     "start_time": "2025-09-19T13:32:33.037076",
     "status": "completed"
    },
    "tags": []
   },
   "outputs": [],
   "source": [
    "data_churn = pd.read_csv('/kaggle/input/churn-modelling-csv/Churn_Modelling.csv')"
   ]
  },
  {
   "cell_type": "markdown",
   "id": "0e1b702c",
   "metadata": {
    "papermill": {
     "duration": 0.003008,
     "end_time": "2025-09-19T13:32:33.114462",
     "exception": false,
     "start_time": "2025-09-19T13:32:33.111454",
     "status": "completed"
    },
    "tags": []
   },
   "source": [
    "**1. Тщательно изучите документацию на библиотеку pandas и попробуйте самостоятельно выполнить группировку по другим столбцам.**"
   ]
  },
  {
   "cell_type": "code",
   "execution_count": 4,
   "id": "1d6bc6ea",
   "metadata": {
    "execution": {
     "iopub.execute_input": "2025-09-19T13:32:33.121735Z",
     "iopub.status.busy": "2025-09-19T13:32:33.121417Z",
     "iopub.status.idle": "2025-09-19T13:32:33.146447Z",
     "shell.execute_reply": "2025-09-19T13:32:33.145448Z"
    },
    "papermill": {
     "duration": 0.03056,
     "end_time": "2025-09-19T13:32:33.148081",
     "exception": false,
     "start_time": "2025-09-19T13:32:33.117521",
     "status": "completed"
    },
    "tags": []
   },
   "outputs": [
    {
     "name": "stdout",
     "output_type": "stream",
     "text": [
      "Средний баланс по странам:\n",
      " Geography\n",
      "France      62092.636516\n",
      "Germany    119730.116134\n",
      "Spain       61818.147763\n",
      "Name: Balance, dtype: float64\n"
     ]
    }
   ],
   "source": [
    "group_geo = data_churn.groupby('Geography')['Balance'].mean()\n",
    "print(\"Средний баланс по странам:\\n\", group_geo)"
   ]
  },
  {
   "cell_type": "code",
   "execution_count": 5,
   "id": "b6e5c6c9",
   "metadata": {
    "execution": {
     "iopub.execute_input": "2025-09-19T13:32:33.156075Z",
     "iopub.status.busy": "2025-09-19T13:32:33.155769Z",
     "iopub.status.idle": "2025-09-19T13:32:33.163711Z",
     "shell.execute_reply": "2025-09-19T13:32:33.162882Z"
    },
    "papermill": {
     "duration": 0.013674,
     "end_time": "2025-09-19T13:32:33.165204",
     "exception": false,
     "start_time": "2025-09-19T13:32:33.151530",
     "status": "completed"
    },
    "tags": []
   },
   "outputs": [
    {
     "name": "stdout",
     "output_type": "stream",
     "text": [
      "\n",
      "Средняя зарплата по возрастам:\n",
      " Age\n",
      "18     85102.389545\n",
      "19     97734.100370\n",
      "20     97705.542000\n",
      "21    102536.673774\n",
      "22     98321.615476\n",
      "          ...      \n",
      "83     92934.410000\n",
      "84    187360.250000\n",
      "85    116537.960000\n",
      "88     52952.240000\n",
      "92    115000.410000\n",
      "Name: EstimatedSalary, Length: 70, dtype: float64\n"
     ]
    }
   ],
   "source": [
    "group_age = data_churn.groupby('Age')['EstimatedSalary'].mean()\n",
    "print(\"\\nСредняя зарплата по возрастам:\\n\", group_age)"
   ]
  },
  {
   "cell_type": "markdown",
   "id": "bd75f042",
   "metadata": {
    "papermill": {
     "duration": 0.003019,
     "end_time": "2025-09-19T13:32:33.171809",
     "exception": false,
     "start_time": "2025-09-19T13:32:33.168790",
     "status": "completed"
    },
    "tags": []
   },
   "source": [
    "**2. В качестве упражнения выведите на экран название (Name) фирмы, у которой цена (Price) входит в интервал Exclusive**"
   ]
  },
  {
   "cell_type": "code",
   "execution_count": 6,
   "id": "d3fd4876",
   "metadata": {
    "execution": {
     "iopub.execute_input": "2025-09-19T13:32:33.179427Z",
     "iopub.status.busy": "2025-09-19T13:32:33.179157Z",
     "iopub.status.idle": "2025-09-19T13:32:33.196816Z",
     "shell.execute_reply": "2025-09-19T13:32:33.195779Z"
    },
    "papermill": {
     "duration": 0.02338,
     "end_time": "2025-09-19T13:32:33.198445",
     "exception": false,
     "start_time": "2025-09-19T13:32:33.175065",
     "status": "completed"
    },
    "tags": []
   },
   "outputs": [
    {
     "name": "stdout",
     "output_type": "stream",
     "text": [
      "\n",
      "Фирмы (Surname) с ценой в интервале Exclusive:\n",
      " ['Chia' 'Macartney' 'Fleming' 'Dilke' 'Despeissis' 'Kang' 'Moore' 'Lo'\n",
      " 'Mao' 'Olisaemeka' 'To Rot' 'McIntosh' 'Thomson' 'Golovanov' \"Ch'ang\"\n",
      " \"Ts'ui\" 'Burke' 'Stokes' 'Bancks' 'Shaw' 'Ku' 'Macdonald' 'Napolitani'\n",
      " 'Sinnett' 'Conti' 'Atkinson' 'Connor' 'Udinesi' 'Haddon' 'Webb' 'Coates'\n",
      " 'Smith']\n"
     ]
    }
   ],
   "source": [
    "cuted = pd.cut(\n",
    "    data_churn['Balance'],\n",
    "    5,\n",
    "    labels=['Low','Medium','High','Very High','Exclusive'],\n",
    "    include_lowest=True\n",
    ")\n",
    "data_churn['Price'] = cuted\n",
    "\n",
    "exclusive_names = data_churn[data_churn['Price'] == \"Exclusive\"]['Surname'].unique()\n",
    "print(\"\\nФирмы (Surname) с ценой в интервале Exclusive:\\n\", exclusive_names)"
   ]
  },
  {
   "cell_type": "markdown",
   "id": "45bfee86",
   "metadata": {
    "papermill": {
     "duration": 0.003244,
     "end_time": "2025-09-19T13:32:33.205448",
     "exception": false,
     "start_time": "2025-09-19T13:32:33.202204",
     "status": "completed"
    },
    "tags": []
   },
   "source": [
    "**3. Загружаем выборку Iris.csv**"
   ]
  },
  {
   "cell_type": "code",
   "execution_count": 7,
   "id": "241546a1",
   "metadata": {
    "execution": {
     "iopub.execute_input": "2025-09-19T13:32:33.213719Z",
     "iopub.status.busy": "2025-09-19T13:32:33.213391Z",
     "iopub.status.idle": "2025-09-19T13:32:33.232073Z",
     "shell.execute_reply": "2025-09-19T13:32:33.231226Z"
    },
    "papermill": {
     "duration": 0.024613,
     "end_time": "2025-09-19T13:32:33.233729",
     "exception": false,
     "start_time": "2025-09-19T13:32:33.209116",
     "status": "completed"
    },
    "tags": []
   },
   "outputs": [],
   "source": [
    "iris = pd.read_csv('/kaggle/input/iris-csv/Iris.csv')"
   ]
  },
  {
   "cell_type": "markdown",
   "id": "b76cec76",
   "metadata": {
    "papermill": {
     "duration": 0.003128,
     "end_time": "2025-09-19T13:32:33.241242",
     "exception": false,
     "start_time": "2025-09-19T13:32:33.238114",
     "status": "completed"
    },
    "tags": []
   },
   "source": [
    "**4. Выводим первый и третий столбцы, сначала по отдельности, потом вместе.**"
   ]
  },
  {
   "cell_type": "code",
   "execution_count": 8,
   "id": "c2e0db44",
   "metadata": {
    "execution": {
     "iopub.execute_input": "2025-09-19T13:32:33.249255Z",
     "iopub.status.busy": "2025-09-19T13:32:33.248928Z",
     "iopub.status.idle": "2025-09-19T13:32:33.261729Z",
     "shell.execute_reply": "2025-09-19T13:32:33.260667Z"
    },
    "papermill": {
     "duration": 0.018663,
     "end_time": "2025-09-19T13:32:33.263280",
     "exception": false,
     "start_time": "2025-09-19T13:32:33.244617",
     "status": "completed"
    },
    "tags": []
   },
   "outputs": [
    {
     "name": "stdout",
     "output_type": "stream",
     "text": [
      "\n",
      "Первый столбец:\n",
      " 0    1\n",
      "1    2\n",
      "2    3\n",
      "3    4\n",
      "4    5\n",
      "Name: Id, dtype: int64\n",
      "\n",
      "Третий столбец:\n",
      " 0    3.5\n",
      "1    3.0\n",
      "2    3.2\n",
      "3    3.1\n",
      "4    3.6\n",
      "Name: SepalWidthCm, dtype: float64\n",
      "\n",
      "Первый и третий вместе:\n",
      "    Id  SepalWidthCm\n",
      "0   1           3.5\n",
      "1   2           3.0\n",
      "2   3           3.2\n",
      "3   4           3.1\n",
      "4   5           3.6\n"
     ]
    }
   ],
   "source": [
    "print(\"\\nПервый столбец:\\n\", iris.iloc[:, 0].head())\n",
    "print(\"\\nТретий столбец:\\n\", iris.iloc[:, 2].head())\n",
    "print(\"\\nПервый и третий вместе:\\n\", iris.iloc[:, [0, 2]].head())"
   ]
  },
  {
   "cell_type": "markdown",
   "id": "197b8598",
   "metadata": {
    "papermill": {
     "duration": 0.003207,
     "end_time": "2025-09-19T13:32:33.270183",
     "exception": false,
     "start_time": "2025-09-19T13:32:33.266976",
     "status": "completed"
    },
    "tags": []
   },
   "source": [
    "**5. Вывести 10 первых строк, вывести 23 случайных строк.**"
   ]
  },
  {
   "cell_type": "code",
   "execution_count": 9,
   "id": "a8fc29c2",
   "metadata": {
    "execution": {
     "iopub.execute_input": "2025-09-19T13:32:33.278112Z",
     "iopub.status.busy": "2025-09-19T13:32:33.277759Z",
     "iopub.status.idle": "2025-09-19T13:32:33.292304Z",
     "shell.execute_reply": "2025-09-19T13:32:33.291060Z"
    },
    "papermill": {
     "duration": 0.020908,
     "end_time": "2025-09-19T13:32:33.294413",
     "exception": false,
     "start_time": "2025-09-19T13:32:33.273505",
     "status": "completed"
    },
    "tags": []
   },
   "outputs": [
    {
     "name": "stdout",
     "output_type": "stream",
     "text": [
      "\n",
      "первые 10 строк:\n",
      "    Id  SepalLengthCm  SepalWidthCm  PetalLengthCm  PetalWidthCm      Species\n",
      "0   1            5.1           3.5            1.4           0.2  Iris-setosa\n",
      "1   2            4.9           3.0            1.4           0.2  Iris-setosa\n",
      "2   3            4.7           3.2            1.3           0.2  Iris-setosa\n",
      "3   4            4.6           3.1            1.5           0.2  Iris-setosa\n",
      "4   5            5.0           3.6            1.4           0.2  Iris-setosa\n",
      "5   6            5.4           3.9            1.7           0.4  Iris-setosa\n",
      "6   7            4.6           3.4            1.4           0.3  Iris-setosa\n",
      "7   8            5.0           3.4            1.5           0.2  Iris-setosa\n",
      "8   9            4.4           2.9            1.4           0.2  Iris-setosa\n",
      "9  10            4.9           3.1            1.5           0.1  Iris-setosa\n",
      "\n",
      "23 случайные строки:\n",
      "       Id  SepalLengthCm  SepalWidthCm  PetalLengthCm  PetalWidthCm  \\\n",
      "31    32            5.4           3.4            1.5           0.4   \n",
      "67    68            5.8           2.7            4.1           1.0   \n",
      "57    58            4.9           2.4            3.3           1.0   \n",
      "30    31            4.8           3.1            1.6           0.2   \n",
      "41    42            4.5           2.3            1.3           0.3   \n",
      "145  146            6.7           3.0            5.2           2.3   \n",
      "39    40            5.1           3.4            1.5           0.2   \n",
      "37    38            4.9           3.1            1.5           0.1   \n",
      "92    93            5.8           2.6            4.0           1.2   \n",
      "97    98            6.2           2.9            4.3           1.3   \n",
      "19    20            5.1           3.8            1.5           0.3   \n",
      "93    94            5.0           2.3            3.3           1.0   \n",
      "2      3            4.7           3.2            1.3           0.2   \n",
      "121  122            5.6           2.8            4.9           2.0   \n",
      "98    99            5.1           2.5            3.0           1.1   \n",
      "112  113            6.8           3.0            5.5           2.1   \n",
      "116  117            6.5           3.0            5.5           1.8   \n",
      "36    37            5.5           3.5            1.3           0.2   \n",
      "119  120            6.0           2.2            5.0           1.5   \n",
      "91    92            6.1           3.0            4.6           1.4   \n",
      "85    86            6.0           3.4            4.5           1.6   \n",
      "5      6            5.4           3.9            1.7           0.4   \n",
      "17    18            5.1           3.5            1.4           0.3   \n",
      "\n",
      "             Species  \n",
      "31       Iris-setosa  \n",
      "67   Iris-versicolor  \n",
      "57   Iris-versicolor  \n",
      "30       Iris-setosa  \n",
      "41       Iris-setosa  \n",
      "145   Iris-virginica  \n",
      "39       Iris-setosa  \n",
      "37       Iris-setosa  \n",
      "92   Iris-versicolor  \n",
      "97   Iris-versicolor  \n",
      "19       Iris-setosa  \n",
      "93   Iris-versicolor  \n",
      "2        Iris-setosa  \n",
      "121   Iris-virginica  \n",
      "98   Iris-versicolor  \n",
      "112   Iris-virginica  \n",
      "116   Iris-virginica  \n",
      "36       Iris-setosa  \n",
      "119   Iris-virginica  \n",
      "91   Iris-versicolor  \n",
      "85   Iris-versicolor  \n",
      "5        Iris-setosa  \n",
      "17       Iris-setosa  \n"
     ]
    }
   ],
   "source": [
    "print(\"\\nпервые 10 строк:\\n\", iris.head(10))\n",
    "print(\"\\n23 случайные строки:\\n\", iris.sample(23))"
   ]
  },
  {
   "cell_type": "markdown",
   "id": "b9ed420a",
   "metadata": {
    "papermill": {
     "duration": 0.003392,
     "end_time": "2025-09-19T13:32:33.301683",
     "exception": false,
     "start_time": "2025-09-19T13:32:33.298291",
     "status": "completed"
    },
    "tags": []
   },
   "source": [
    "**6.Выводим статистику по числовым показателям**"
   ]
  },
  {
   "cell_type": "code",
   "execution_count": 10,
   "id": "104a7a27",
   "metadata": {
    "execution": {
     "iopub.execute_input": "2025-09-19T13:32:33.310066Z",
     "iopub.status.busy": "2025-09-19T13:32:33.309768Z",
     "iopub.status.idle": "2025-09-19T13:32:33.349222Z",
     "shell.execute_reply": "2025-09-19T13:32:33.348274Z"
    },
    "papermill": {
     "duration": 0.045373,
     "end_time": "2025-09-19T13:32:33.350666",
     "exception": false,
     "start_time": "2025-09-19T13:32:33.305293",
     "status": "completed"
    },
    "tags": []
   },
   "outputs": [
    {
     "name": "stdout",
     "output_type": "stream",
     "text": [
      "\n",
      "Статистика по числовым данным:\n",
      "                Id  SepalLengthCm  SepalWidthCm  PetalLengthCm  PetalWidthCm\n",
      "count  150.000000     150.000000    150.000000     150.000000    150.000000\n",
      "mean    75.500000       5.843333      3.054000       3.758667      1.198667\n",
      "std     43.445368       0.828066      0.433594       1.764420      0.763161\n",
      "min      1.000000       4.300000      2.000000       1.000000      0.100000\n",
      "25%     38.250000       5.100000      2.800000       1.600000      0.300000\n",
      "50%     75.500000       5.800000      3.000000       4.350000      1.300000\n",
      "75%    112.750000       6.400000      3.300000       5.100000      1.800000\n",
      "max    150.000000       7.900000      4.400000       6.900000      2.500000\n"
     ]
    }
   ],
   "source": [
    "print(\"\\nСтатистика по числовым данным:\\n\", iris.describe())"
   ]
  },
  {
   "cell_type": "markdown",
   "id": "824aaff3",
   "metadata": {
    "papermill": {
     "duration": 0.003394,
     "end_time": "2025-09-19T13:32:33.357785",
     "exception": false,
     "start_time": "2025-09-19T13:32:33.354391",
     "status": "completed"
    },
    "tags": []
   },
   "source": [
    "**7. Сгрупируйте данные по столбцу Setosa**"
   ]
  },
  {
   "cell_type": "code",
   "execution_count": 11,
   "id": "2bcdd656",
   "metadata": {
    "execution": {
     "iopub.execute_input": "2025-09-19T13:32:33.366202Z",
     "iopub.status.busy": "2025-09-19T13:32:33.365905Z",
     "iopub.status.idle": "2025-09-19T13:32:33.375638Z",
     "shell.execute_reply": "2025-09-19T13:32:33.374679Z"
    },
    "papermill": {
     "duration": 0.015512,
     "end_time": "2025-09-19T13:32:33.376915",
     "exception": false,
     "start_time": "2025-09-19T13:32:33.361403",
     "status": "completed"
    },
    "tags": []
   },
   "outputs": [
    {
     "name": "stdout",
     "output_type": "stream",
     "text": [
      "\n",
      "Средние значения по видам (Setosa, Versicolor, Virginica):\n",
      "                     Id  SepalLengthCm  SepalWidthCm  PetalLengthCm  \\\n",
      "Species                                                              \n",
      "Iris-setosa       25.5          5.006         3.418          1.464   \n",
      "Iris-versicolor   75.5          5.936         2.770          4.260   \n",
      "Iris-virginica   125.5          6.588         2.974          5.552   \n",
      "\n",
      "                 PetalWidthCm  \n",
      "Species                        \n",
      "Iris-setosa             0.244  \n",
      "Iris-versicolor         1.326  \n",
      "Iris-virginica          2.026  \n"
     ]
    }
   ],
   "source": [
    "group_species = iris.groupby('Species').mean()\n",
    "print(\"\\nСредние значения по видам (Setosa, Versicolor, Virginica):\\n\", group_species)"
   ]
  }
 ],
 "metadata": {
  "kaggle": {
   "accelerator": "none",
   "dataSources": [
    {
     "datasetId": 8300164,
     "sourceId": 13103123,
     "sourceType": "datasetVersion"
    },
    {
     "datasetId": 8304093,
     "sourceId": 13109233,
     "sourceType": "datasetVersion"
    }
   ],
   "dockerImageVersionId": 31089,
   "isGpuEnabled": false,
   "isInternetEnabled": true,
   "language": "python",
   "sourceType": "notebook"
  },
  "kernelspec": {
   "display_name": "Python 3",
   "language": "python",
   "name": "python3"
  },
  "language_info": {
   "codemirror_mode": {
    "name": "ipython",
    "version": 3
   },
   "file_extension": ".py",
   "mimetype": "text/x-python",
   "name": "python",
   "nbconvert_exporter": "python",
   "pygments_lexer": "ipython3",
   "version": "3.11.13"
  },
  "papermill": {
   "default_parameters": {},
   "duration": 8.495161,
   "end_time": "2025-09-19T13:32:33.899579",
   "environment_variables": {},
   "exception": null,
   "input_path": "__notebook__.ipynb",
   "output_path": "__notebook__.ipynb",
   "parameters": {},
   "start_time": "2025-09-19T13:32:25.404418",
   "version": "2.6.0"
  }
 },
 "nbformat": 4,
 "nbformat_minor": 5
}
